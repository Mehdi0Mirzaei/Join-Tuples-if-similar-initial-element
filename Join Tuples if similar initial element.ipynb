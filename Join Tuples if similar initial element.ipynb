{
 "cells": [
  {
   "cell_type": "code",
   "execution_count": 30,
   "id": "dc5821b5",
   "metadata": {},
   "outputs": [
    {
     "name": "stdout",
     "output_type": "stream",
     "text": [
      "The original list is : [(5, 6), (5, 7), (6, 8), (6, 10), (7, 13)]\n",
      "The extracted elements : [(5, 6, 7), (6, 8, 10), (7, 13)]\n"
     ]
    }
   ],
   "source": [
    "# initializing list\n",
    "test_list = [(5, 6), (5, 7), (6, 8), (6, 10), (7, 13)]\n",
    " \n",
    "# printing original list\n",
    "print(\"The original list is : \" + str(test_list))\n",
    " \n",
    "# Join Tuples if similar initial element\n",
    "# Using loop\n",
    "res = []\n",
    "for sub in test_list:\n",
    "    if res and res[-1][0] == sub[0]:\n",
    "        res[-1].extend(sub[1:])\n",
    "    else:\n",
    "        res.append([ele for ele in sub])\n",
    "res = list(map(tuple, res))\n",
    " \n",
    "# printing result\n",
    "print(\"The extracted elements : \" + str(res))"
   ]
  },
  {
   "cell_type": "code",
   "execution_count": 31,
   "id": "515327af",
   "metadata": {},
   "outputs": [
    {
     "name": "stdout",
     "output_type": "stream",
     "text": [
      "The original list is : [(5, 6), (5, 7), (6, 8), (6, 10), (7, 13)]\n",
      "The extracted elements : [[5, 6, 7], [6, 8, 10], [7, 13]]\n"
     ]
    }
   ],
   "source": [
    "# initializing list\n",
    "test_list = [(5, 6), (5, 7), (6, 8), (6, 10), (7, 13)]\n",
    " \n",
    "# printing original list\n",
    "print(\"The original list is : \" + str(test_list))\n",
    " \n",
    "# Join Tuples if similar initial element\n",
    "# Using loop\n",
    "res = []\n",
    "x = []\n",
    "for i in test_list:\n",
    "    if i[0] not in x:\n",
    "        x.append(i[0])\n",
    "for i in x:\n",
    "    p = []\n",
    "    p.append(i)\n",
    "    for j in test_list:\n",
    "        if i == j[0]:\n",
    "            p.append(j[1])\n",
    "    res.append(p)\n",
    " # printing result\n",
    "print(\"The extracted elements : \" + str(res))"
   ]
  },
  {
   "cell_type": "code",
   "execution_count": 32,
   "id": "02b3e663",
   "metadata": {},
   "outputs": [
    {
     "name": "stdout",
     "output_type": "stream",
     "text": [
      "The original list is : [(5, 6), (5, 7), (6, 8), (6, 10), (7, 13)]\n",
      "The extracted elements : [(5, 6, 7), (6, 8, 10), (7, 13)]\n"
     ]
    }
   ],
   "source": [
    "# initializing list\n",
    "test_list = [(5, 6), (5, 7), (6, 8), (6, 10), (7, 13)]\n",
    " \n",
    "# printing original list\n",
    "print(\"The original list is : \" + str(test_list))\n",
    " \n",
    "# Join Tuples if similar initial element\n",
    "# Using dictionary and list comprehension\n",
    "temp_dict = {}\n",
    "for x in test_list:\n",
    "    temp_dict[x[0]] = temp_dict.get(x[0], []) + list(x[1:])\n",
    " \n",
    "res = [(k,) + tuple(v) for k, v in temp_dict.items()]\n",
    " \n",
    "# printing result\n",
    "print(\"The extracted elements : \" + str(res))"
   ]
  },
  {
   "cell_type": "code",
   "execution_count": 33,
   "id": "73d6b59f",
   "metadata": {},
   "outputs": [
    {
     "name": "stdout",
     "output_type": "stream",
     "text": [
      "The original list is : [(5, 6), (5, 7), (6, 8), (6, 10), (7, 13)]\n",
      "The extracted elements : [(5, 6, 7), (6, 8, 10), (7, 13)]\n"
     ]
    }
   ],
   "source": [
    "def join_tuples(test_list, index):\n",
    "    if index == len(test_list) - 1:\n",
    "        return test_list\n",
    "    elif test_list[index][0] == test_list[index + 1][0]:\n",
    "        test_list[index] += test_list[index + 1][1:]\n",
    "        test_list.pop(index + 1)\n",
    "        return join_tuples(test_list, index)\n",
    "    else:\n",
    "        return join_tuples(test_list, index + 1)\n",
    " # initializing list\n",
    "test_list = [(5, 6), (5, 7), (6, 8), (6, 10), (7, 13)]\n",
    " \n",
    "# printing original list\n",
    "print(\"The original list is : \" + str(test_list))\n",
    " \n",
    "# Join Tuples if similar initial element\n",
    "# Using recursion\n",
    "res = join_tuples(test_list, 0)\n",
    " \n",
    "# printing result\n",
    "print(\"The extracted elements : \" + str(res))"
   ]
  },
  {
   "cell_type": "code",
   "execution_count": null,
   "id": "bb0f5d47",
   "metadata": {},
   "outputs": [],
   "source": []
  }
 ],
 "metadata": {
  "kernelspec": {
   "display_name": "Python 3 (ipykernel)",
   "language": "python",
   "name": "python3"
  },
  "language_info": {
   "codemirror_mode": {
    "name": "ipython",
    "version": 3
   },
   "file_extension": ".py",
   "mimetype": "text/x-python",
   "name": "python",
   "nbconvert_exporter": "python",
   "pygments_lexer": "ipython3",
   "version": "3.9.13"
  }
 },
 "nbformat": 4,
 "nbformat_minor": 5
}
